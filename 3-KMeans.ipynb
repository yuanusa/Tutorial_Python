{
 "cells": [
  {
   "cell_type": "markdown",
   "metadata": {},
   "source": [
    "# KMeans\n",
    "\n",
    "BitTiger DS501"
   ]
  },
  {
   "cell_type": "code",
   "execution_count": null,
   "metadata": {
    "collapsed": true
   },
   "outputs": [],
   "source": [
    "import random\n",
    "import numpy as np\n",
    "from scipy.spatial.distance import euclidean\n",
    "from collections import defaultdict\n",
    "from sklearn import datasets\n",
    "import matplotlib.pyplot as plt\n",
    "from sklearn.metrics import silhouette_score\n",
    "from itertools import combinations\n",
    "% matplotlib inline\n",
    "\n",
    "def k_means(X, k=5, max_iter=1000):\n",
    "    \"\"\"Performs k means\n",
    "\n",
    "    Args:\n",
    "    - X - feature matrix\n",
    "    - k - number of clusters\n",
    "    - max_iter - maximum iteratations\n",
    "\n",
    "    Returns:\n",
    "    - clusters - dict mapping cluster centers to observations\n",
    "    \"\"\"\n",
    "    centers = [tuple(pt) for pt in random.sample(list(X), k)]\n",
    "    for i in range(max_iter):\n",
    "        clusters = defaultdict(list)\n",
    "\n",
    "        for datapoint in X:\n",
    "            distances = [euclidean(datapoint, center) for center in centers]\n",
    "            center = centers[np.argmin(distances)]\n",
    "            clusters[center].append(datapoint)\n",
    "\n",
    "        new_centers = []\n",
    "        for center, pts in clusters.items():\n",
    "            new_center = np.mean(pts, axis=0)\n",
    "            new_centers.append(tuple(new_center))\n",
    "\n",
    "        if set(new_centers) == set(centers):\n",
    "            break\n",
    "\n",
    "        centers = new_centers\n",
    "\n",
    "    return clusters\n",
    "\n",
    "\n",
    "def sse(clusters):\n",
    "    \"\"\"Sum squared euclidean distance of all points to their cluster center\"\"\"\n",
    "    sum_squared_residuals = 0\n",
    "    for center, pts in clusters.items():\n",
    "        for pt in pts:\n",
    "            sum_squared_residuals += euclidean(pt, center)**2\n",
    "    return sum_squared_residuals\n",
    "\n",
    "\n",
    "def plot_k_sse(X, min_k, max_k):\n",
    "    \"\"\"Plots sse for values of k between min_k and max_k\n",
    "\n",
    "    Args:\n",
    "    - X - feature matrix\n",
    "    - min_k, max_k - smallest and largest k to plot sse for\n",
    "    \"\"\"\n",
    "    k_values = range(min_k, max_k+1)\n",
    "    sse_values = []\n",
    "    for k in k_values:\n",
    "        clusters = k_means(X, k=k)\n",
    "        sse_values.append(sse(clusters))\n",
    "    plt.plot(k_values, sse_values)\n",
    "    plt.xlabel('k')\n",
    "    plt.ylabel('sum squared error')\n",
    "\n",
    "\n",
    "def turn_clusters_into_labels(clusters):\n",
    "    \"\"\"Converts clusters dict returned by k_means into X, y (labels)\n",
    "\n",
    "    Args:\n",
    "    - clusters - dict mapping cluster centers to observations\n",
    "    \"\"\"\n",
    "    labels = []\n",
    "    new_X = []\n",
    "    label = 0\n",
    "    for cluster, pts in clusters.items():\n",
    "        for pt in pts:\n",
    "            new_X.append(pt)\n",
    "            labels.append(label)\n",
    "        label += 1\n",
    "    return np.array(new_X), np.array(labels)\n",
    "\n",
    "\n",
    "def plot_k_silhouette(X, min_k, max_k):\n",
    "    \"\"\"Plots sse for values of k between min_k and max_k\n",
    "\n",
    "    Args:\n",
    "    - X - feature matrix\n",
    "    - min_k, max_k - smallest and largest k to plot sse for\n",
    "    \"\"\"\n",
    "    k_values = range(min_k, max_k+1)\n",
    "    silhouette_scores = []\n",
    "    for k in k_values:\n",
    "        clusters = k_means(X, k=k)\n",
    "        new_X, labels = turn_clusters_into_labels(clusters)\n",
    "        silhouette_scores.append(silhouette_score(new_X, labels))\n",
    "\n",
    "    plt.plot(k_values, silhouette_scores)\n",
    "    plt.xlabel('k')\n",
    "    plt.ylabel('silhouette score')\n",
    "\n",
    "\n",
    "def plot_all_2d(X, feature_names, k=3):\n",
    "    \"\"\"Generates all possible 2d plots of observations color coded by cluster ID\"\"\"\n",
    "    pairs = list(combinations(range(X.shape[1]), 2))\n",
    "    fig, axes = plt.subplots(( int(len(pairs)/2) ), 2)\n",
    "    flattened_axes = [ax for ls in axes for ax in ls]\n",
    "\n",
    "    for pair, ax in zip(pairs, flattened_axes):\n",
    "        pair = np.array(pair)\n",
    "        plot_data_2d(X[:, pair], feature_names[pair], ax, k=k)\n",
    "\n",
    "\n",
    "def plot_data_2d(X, plot_labels, ax, k=3):\n",
    "    \"\"\"Generates single 2d plot of observations color coded by cluster ID\"\"\"\n",
    "    clusters = k_means(X, k=k)\n",
    "    new_X, labels = turn_clusters_into_labels(clusters)\n",
    "    ax.scatter(new_X[:, 0], new_X[:, 1], c=labels)\n",
    "    ax.set_xlabel(plot_labels[0])\n",
    "    ax.set_ylabel(plot_labels[1])"
   ]
  },
  {
   "cell_type": "code",
   "execution_count": null,
   "metadata": {
    "collapsed": true
   },
   "outputs": [],
   "source": [
    "iris = datasets.load_iris()\n",
    "X = iris.data"
   ]
  },
  {
   "cell_type": "code",
   "execution_count": null,
   "metadata": {
    "collapsed": true
   },
   "outputs": [],
   "source": [
    "clustered_X = k_means(X, k=5, max_iter=1000)\n"
   ]
  },
  {
   "cell_type": "code",
   "execution_count": null,
   "metadata": {
    "collapsed": true
   },
   "outputs": [],
   "source": [
    "plot_k_sse(X, 2, 10)\n"
   ]
  },
  {
   "cell_type": "code",
   "execution_count": null,
   "metadata": {
    "collapsed": true
   },
   "outputs": [],
   "source": [
    "plot_k_silhouette(X, 2, 10)\n"
   ]
  },
  {
   "cell_type": "code",
   "execution_count": null,
   "metadata": {
    "collapsed": true
   },
   "outputs": [],
   "source": [
    "plt.figure(figsize=(12, 12))\n",
    "plot_all_2d(X, np.array(iris.feature_names), k=5)\n"
   ]
  },
  {
   "cell_type": "code",
   "execution_count": null,
   "metadata": {
    "collapsed": true
   },
   "outputs": [],
   "source": []
  }
 ],
 "metadata": {
  "anaconda-cloud": {},
  "kernelspec": {
   "display_name": "Python 3",
   "language": "python",
   "name": "python3"
  },
  "language_info": {
   "codemirror_mode": {
    "name": "ipython",
    "version": 3
   },
   "file_extension": ".py",
   "mimetype": "text/x-python",
   "name": "python",
   "nbconvert_exporter": "python",
   "pygments_lexer": "ipython3",
   "version": "3.6.4"
  }
 },
 "nbformat": 4,
 "nbformat_minor": 1
}
